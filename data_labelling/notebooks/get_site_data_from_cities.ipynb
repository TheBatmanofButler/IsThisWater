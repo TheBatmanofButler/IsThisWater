{
 "cells": [
  {
   "cell_type": "code",
   "execution_count": 1,
   "metadata": {},
   "outputs": [],
   "source": [
    "import json\n",
    "import random\n",
    "import uuid"
   ]
  },
  {
   "cell_type": "code",
   "execution_count": 2,
   "metadata": {},
   "outputs": [],
   "source": [
    "with open('../json/cities.json') as fp:\n",
    "    cities = json.load(fp)"
   ]
  },
  {
   "cell_type": "code",
   "execution_count": 3,
   "metadata": {},
   "outputs": [],
   "source": [
    "SITES_DATA_FILEPATH = '../json/sites_from_cities_0.json'\n",
    "NUM_SITES_PER_BASE_CITY = 1\n",
    "\n",
    "sites_dict = {\n",
    "    'unchecked': [],\n",
    "    'water': [],\n",
    "    'no_water': []\n",
    "}"
   ]
  },
  {
   "cell_type": "code",
   "execution_count": 4,
   "metadata": {},
   "outputs": [],
   "source": [
    "for city in cities:\n",
    "    city_lat = cities[city]['lat']\n",
    "    city_lon = cities[city]['lon']\n",
    "\n",
    "    for _ in range(NUM_SITES_PER_BASE_CITY):\n",
    "        lat_diff = random.uniform(0.1, 1)\n",
    "        lon_diff = random.uniform(0.1, 2)\n",
    "\n",
    "        sites_dict['unchecked'].append({\n",
    "            'base_city': city,\n",
    "            'site_code': str(uuid.uuid4()),\n",
    "            'lat': round(city_lat + lat_diff, 8),\n",
    "            'lon': round(city_lon + lon_diff, 8)\n",
    "        })"
   ]
  },
  {
   "cell_type": "code",
   "execution_count": 5,
   "metadata": {
    "scrolled": true
   },
   "outputs": [
    {
     "data": {
      "text/plain": [
       "{'unchecked': [{'base_city': 'Seattle',\n",
       "   'site_code': 'e309e08e-5071-42c6-a81d-a82611a9c2b1',\n",
       "   'lat': 47.72837299,\n",
       "   'lon': -120.35312423},\n",
       "  {'base_city': 'Kansas City',\n",
       "   'site_code': '7beb202b-e1e4-491a-90fe-e421f85ff9e4',\n",
       "   'lat': 39.42860346,\n",
       "   'lon': -94.25885919},\n",
       "  {'base_city': 'Indianapolis',\n",
       "   'site_code': '630d9b0b-c525-4402-8473-f26ed4354040',\n",
       "   'lat': 40.75710891,\n",
       "   'lon': -84.65597189},\n",
       "  {'base_city': 'Charlotte',\n",
       "   'site_code': '9eb2d7d4-d68c-4b46-858f-b96c98aa6c20',\n",
       "   'lat': 35.57222146,\n",
       "   'lon': -79.94616607},\n",
       "  {'base_city': 'Dallas',\n",
       "   'site_code': '02091078-1579-401c-8754-fae8d8c192cd',\n",
       "   'lat': 33.63780388,\n",
       "   'lon': -96.41970645},\n",
       "  {'base_city': 'Atlanta',\n",
       "   'site_code': 'f7f43ba9-37e6-4178-8dc7-5b443fcc518f',\n",
       "   'lat': 34.02034043,\n",
       "   'lon': -83.61244292},\n",
       "  {'base_city': 'Phoenix',\n",
       "   'site_code': 'd557d2ff-b735-44b8-8294-f54aff54ff25',\n",
       "   'lat': 34.0118149,\n",
       "   'lon': -111.94146468},\n",
       "  {'base_city': 'Salt Lake City',\n",
       "   'site_code': '09874ece-62fb-4d2b-a7f7-f1ef8072fff1',\n",
       "   'lat': 41.67793403,\n",
       "   'lon': -110.33844048},\n",
       "  {'base_city': 'Denver',\n",
       "   'site_code': '860c2f27-a500-45d0-bc98-481a531cf42e',\n",
       "   'lat': 40.11171664,\n",
       "   'lon': -103.62234245},\n",
       "  {'base_city': 'Billings',\n",
       "   'site_code': 'eb876731-90fa-462b-93de-3bca57eb90bf',\n",
       "   'lat': 46.61027817,\n",
       "   'lon': -106.82469946}],\n",
       " 'water': [],\n",
       " 'no_water': []}"
      ]
     },
     "execution_count": 5,
     "metadata": {},
     "output_type": "execute_result"
    }
   ],
   "source": [
    "sites_dict"
   ]
  },
  {
   "cell_type": "code",
   "execution_count": 6,
   "metadata": {},
   "outputs": [],
   "source": [
    "sites_dict['unchecked'] = random.sample(sites_dict['unchecked'], len(sites_dict['unchecked']))"
   ]
  },
  {
   "cell_type": "code",
   "execution_count": 7,
   "metadata": {},
   "outputs": [
    {
     "data": {
      "text/plain": [
       "10"
      ]
     },
     "execution_count": 7,
     "metadata": {},
     "output_type": "execute_result"
    }
   ],
   "source": [
    "len(sites_dict['unchecked'])"
   ]
  },
  {
   "cell_type": "code",
   "execution_count": 8,
   "metadata": {},
   "outputs": [],
   "source": [
    "with open(SITES_DATA_FILEPATH, 'w+') as fp:\n",
    "    json.dump(sites_dict, fp)"
   ]
  }
 ],
 "metadata": {
  "kernelspec": {
   "display_name": "Python 3",
   "language": "python",
   "name": "python3"
  },
  "language_info": {
   "codemirror_mode": {
    "name": "ipython",
    "version": 3
   },
   "file_extension": ".py",
   "mimetype": "text/x-python",
   "name": "python",
   "nbconvert_exporter": "python",
   "pygments_lexer": "ipython3",
   "version": "3.6.6"
  }
 },
 "nbformat": 4,
 "nbformat_minor": 2
}
