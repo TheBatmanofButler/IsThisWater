{
 "cells": [
  {
   "cell_type": "code",
   "execution_count": 1,
   "metadata": {},
   "outputs": [],
   "source": [
    "import json\n",
    "import random\n",
    "import uuid"
   ]
  },
  {
   "cell_type": "code",
   "execution_count": 2,
   "metadata": {},
   "outputs": [],
   "source": [
    "with open('../json/cities.json') as fp:\n",
    "    cities = json.load(fp)"
   ]
  },
  {
   "cell_type": "code",
   "execution_count": 3,
   "metadata": {},
   "outputs": [],
   "source": [
    "SITES_DATA_FILEPATH = '../json/sites_from_cities_0.json'\n",
    "NUM_SITES_PER_BASE_CITY = 1\n",
    "\n",
    "sites_dict = {\n",
    "    'unchecked': [],\n",
    "    'water': [],\n",
    "    'no_water': []\n",
    "}"
   ]
  },
  {
   "cell_type": "code",
   "execution_count": 4,
   "metadata": {},
   "outputs": [],
   "source": [
    "for city in cities:\n",
    "    city_lat = cities[city]['lat']\n",
    "    city_lon = cities[city]['lon']\n",
    "\n",
    "    for _ in range(NUM_SITES_PER_BASE_CITY):\n",
    "        lat_diff = random.uniform(0.1, 1)\n",
    "        lon_diff = random.uniform(0.1, 2)\n",
    "\n",
    "        sites_dict['unchecked'].append({\n",
    "            'base_city': city,\n",
    "            'site_code': str(uuid.uuid4()),\n",
    "            'lat': round(city_lat + lat_diff, 8),\n",
    "            'lon': round(city_lon + lon_diff, 8)\n",
    "        })"
   ]
  },
  {
   "cell_type": "code",
   "execution_count": 5,
   "metadata": {
    "scrolled": true
   },
   "outputs": [
    {
     "data": {
      "text/plain": [
       "{'unchecked': [{'base_city': 'Seattle',\n",
       "   'site_code': '3ddc5a9a-df20-4620-b9b9-7a7c6292f454',\n",
       "   'lat': 48.49691547,\n",
       "   'lon': -121.93410204},\n",
       "  {'base_city': 'Kansas City',\n",
       "   'site_code': 'aa9b0260-4f8b-471a-9a60-4fb2a46562a7',\n",
       "   'lat': 39.20643236,\n",
       "   'lon': -93.79985608},\n",
       "  {'base_city': 'Indianapolis',\n",
       "   'site_code': 'deab97c2-a5b4-4e56-8d75-959433664f5d',\n",
       "   'lat': 39.97829141,\n",
       "   'lon': -84.85162945},\n",
       "  {'base_city': 'Charlotte',\n",
       "   'site_code': '930c0f1d-71a6-4b0b-9aa5-e5f092a021db',\n",
       "   'lat': 35.99965854,\n",
       "   'lon': -80.67106353},\n",
       "  {'base_city': 'Dallas',\n",
       "   'site_code': 'e751c478-2c07-40de-a0b5-530888d7cee6',\n",
       "   'lat': 33.7474399,\n",
       "   'lon': -96.34857647},\n",
       "  {'base_city': 'Atlanta',\n",
       "   'site_code': 'e6b71fdd-82d9-4669-94d3-05aa0e029015',\n",
       "   'lat': 34.35069152,\n",
       "   'lon': -82.64860012},\n",
       "  {'base_city': 'Phoenix',\n",
       "   'site_code': '618ea730-2afd-4167-9b79-4df45b4d39f6',\n",
       "   'lat': 34.30441326,\n",
       "   'lon': -110.52509864},\n",
       "  {'base_city': 'Salt Lake City',\n",
       "   'site_code': '8cde99a5-6e73-478d-bd8c-9c85e5e30469',\n",
       "   'lat': 40.87761208,\n",
       "   'lon': -110.82792441},\n",
       "  {'base_city': 'Denver',\n",
       "   'site_code': '560f50f0-540e-4e27-a2ee-bf9151c1321d',\n",
       "   'lat': 39.84970268,\n",
       "   'lon': -104.88997722},\n",
       "  {'base_city': 'Billings',\n",
       "   'site_code': '5c171640-3237-4efd-aca9-50f5e2ffbbc2',\n",
       "   'lat': 46.20937346,\n",
       "   'lon': -108.07941874}],\n",
       " 'water': [],\n",
       " 'no_water': []}"
      ]
     },
     "execution_count": 5,
     "metadata": {},
     "output_type": "execute_result"
    }
   ],
   "source": [
    "sites_dict"
   ]
  },
  {
   "cell_type": "code",
   "execution_count": 6,
   "metadata": {},
   "outputs": [],
   "source": [
    "sites_dict['unchecked'] = random.sample(sites_dict['unchecked'], len(sites_dict['unchecked']))"
   ]
  },
  {
   "cell_type": "code",
   "execution_count": 7,
   "metadata": {},
   "outputs": [
    {
     "data": {
      "text/plain": [
       "10"
      ]
     },
     "execution_count": 7,
     "metadata": {},
     "output_type": "execute_result"
    }
   ],
   "source": [
    "len(sites_dict['unchecked'])"
   ]
  },
  {
   "cell_type": "code",
   "execution_count": 8,
   "metadata": {},
   "outputs": [],
   "source": [
    "with open(SITES_DATA_FILEPATH, 'w+') as fp:\n",
    "    json.dump(sites_dict, fp)"
   ]
  }
 ],
 "metadata": {
  "kernelspec": {
   "display_name": "Python 3",
   "language": "python",
   "name": "python3"
  },
  "language_info": {
   "codemirror_mode": {
    "name": "ipython",
    "version": 3
   },
   "file_extension": ".py",
   "mimetype": "text/x-python",
   "name": "python",
   "nbconvert_exporter": "python",
   "pygments_lexer": "ipython3",
   "version": "3.6.6"
  }
 },
 "nbformat": 4,
 "nbformat_minor": 2
}
