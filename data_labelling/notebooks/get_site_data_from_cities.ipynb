{
 "cells": [
  {
   "cell_type": "code",
   "execution_count": 1,
   "metadata": {},
   "outputs": [],
   "source": [
    "import json\n",
    "import random\n",
    "import uuid"
   ]
  },
  {
   "cell_type": "code",
   "execution_count": 2,
   "metadata": {},
   "outputs": [],
   "source": [
    "with open('../json/cities.json') as fp:\n",
    "    cities = json.load(fp)"
   ]
  },
  {
   "cell_type": "code",
   "execution_count": 3,
   "metadata": {},
   "outputs": [],
   "source": [
    "SITES_DATA_FILEPATH = '../json/sites_from_cities_0.json'\n",
    "NUM_SITES_PER_BASE_CITY = 1\n",
    "\n",
    "sites_dict = {\n",
    "    'unchecked': [],\n",
    "    'water': [],\n",
    "    'no_water': []\n",
    "}"
   ]
  },
  {
   "cell_type": "code",
   "execution_count": 4,
   "metadata": {},
   "outputs": [],
   "source": [
    "for city in cities:\n",
    "    city_lat = cities[city]['lat']\n",
    "    city_lon = cities[city]['lon']\n",
    "\n",
    "    for _ in range(NUM_SITES_PER_BASE_CITY):\n",
    "        lat_diff = random.uniform(0.1, 1)\n",
    "        lon_diff = random.uniform(0.1, 2)\n",
    "\n",
    "        sites_dict['unchecked'].append({\n",
    "            'base_city': city,\n",
    "            'site_code': str(uuid.uuid4()),\n",
    "            'lat': round(city_lat + lat_diff, 8),\n",
    "            'lon': round(city_lon + lon_diff, 8)\n",
    "        })"
   ]
  },
  {
   "cell_type": "code",
   "execution_count": 5,
   "metadata": {
    "scrolled": true
   },
   "outputs": [
    {
     "data": {
      "text/plain": [
       "{'unchecked': [{'base_city': 'Seattle',\n",
       "   'site_code': 'c3343e57-f00e-4add-b5a7-f72c9f3f208f',\n",
       "   'lat': 47.71997676,\n",
       "   'lon': -121.93389909},\n",
       "  {'base_city': 'Kansas City',\n",
       "   'site_code': '27a45733-1d4b-4010-b80a-9c05e3329cf6',\n",
       "   'lat': 39.52566833,\n",
       "   'lon': -94.4723149},\n",
       "  {'base_city': 'Indianapolis',\n",
       "   'site_code': '21dd193c-a0e8-4035-be46-07c3fc48ab50',\n",
       "   'lat': 40.60538825,\n",
       "   'lon': -84.82854123},\n",
       "  {'base_city': 'Charlotte',\n",
       "   'site_code': '23c8545b-7537-4a9b-9a0d-c6dc5e8e593c',\n",
       "   'lat': 35.97972957,\n",
       "   'lon': -79.38844517},\n",
       "  {'base_city': 'Dallas',\n",
       "   'site_code': 'd5bea6d1-0b47-4d31-9347-7313ca4f7d41',\n",
       "   'lat': 33.08100298,\n",
       "   'lon': -96.42379518},\n",
       "  {'base_city': 'Atlanta',\n",
       "   'site_code': '3809ae6b-548d-4fe6-9e57-a1509b2069e8',\n",
       "   'lat': 34.61188753,\n",
       "   'lon': -84.05207445},\n",
       "  {'base_city': 'Phoenix',\n",
       "   'site_code': 'eec08b1c-c4be-4886-b437-769c3acd9a88',\n",
       "   'lat': 33.5826553,\n",
       "   'lon': -110.54625976},\n",
       "  {'base_city': 'Salt Lake City',\n",
       "   'site_code': '45e30931-8b31-4cd5-a41c-69ce63e1ce84',\n",
       "   'lat': 41.01040541,\n",
       "   'lon': -109.99917822},\n",
       "  {'base_city': 'Denver',\n",
       "   'site_code': 'b3ff421f-7646-4654-9bf4-cd6be124d032',\n",
       "   'lat': 40.47520102,\n",
       "   'lon': -103.77384572},\n",
       "  {'base_city': 'Billings',\n",
       "   'site_code': '67ce9788-56ff-4690-818c-e704fc68755a',\n",
       "   'lat': 46.13566242,\n",
       "   'lon': -107.73378507}],\n",
       " 'water': [],\n",
       " 'no_water': []}"
      ]
     },
     "execution_count": 5,
     "metadata": {},
     "output_type": "execute_result"
    }
   ],
   "source": [
    "sites_dict"
   ]
  },
  {
   "cell_type": "code",
   "execution_count": 6,
   "metadata": {},
   "outputs": [],
   "source": [
    "sites_dict['unchecked'] = random.sample(sites_dict['unchecked'], len(sites_dict['unchecked']))"
   ]
  },
  {
   "cell_type": "code",
   "execution_count": 7,
   "metadata": {},
   "outputs": [
    {
     "data": {
      "text/plain": [
       "10"
      ]
     },
     "execution_count": 7,
     "metadata": {},
     "output_type": "execute_result"
    }
   ],
   "source": [
    "len(sites_dict['unchecked'])"
   ]
  },
  {
   "cell_type": "code",
   "execution_count": 8,
   "metadata": {},
   "outputs": [],
   "source": [
    "with open(SITES_DATA_FILEPATH, 'w+') as fp:\n",
    "    json.dump(sites_dict, fp)"
   ]
  }
 ],
 "metadata": {
  "kernelspec": {
   "display_name": "Python 3",
   "language": "python",
   "name": "python3"
  },
  "language_info": {
   "codemirror_mode": {
    "name": "ipython",
    "version": 3
   },
   "file_extension": ".py",
   "mimetype": "text/x-python",
   "name": "python",
   "nbconvert_exporter": "python",
   "pygments_lexer": "ipython3",
   "version": "3.7.0"
  }
 },
 "nbformat": 4,
 "nbformat_minor": 2
}
