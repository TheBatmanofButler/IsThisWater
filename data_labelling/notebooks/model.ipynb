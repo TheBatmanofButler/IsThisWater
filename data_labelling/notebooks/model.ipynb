{
 "cells": [
  {
   "cell_type": "markdown",
   "metadata": {},
   "source": [
    "## Source: https://blog.keras.io/building-powerful-image-classification-models-using-very-little-data.html"
   ]
  },
  {
   "cell_type": "code",
   "execution_count": 1,
   "metadata": {},
   "outputs": [
    {
     "name": "stderr",
     "output_type": "stream",
     "text": [
      "Using TensorFlow backend.\n"
     ]
    }
   ],
   "source": [
    "from keras.preprocessing.image import ImageDataGenerator\n",
    "from keras.models import Sequential\n",
    "from keras.layers import Conv2D, MaxPooling2D\n",
    "from keras.layers import Activation, Dropout, Flatten, Dense\n",
    "from keras import backend as K\n",
    "\n",
    "import os\n",
    "import math\n",
    "import random\n",
    "import shutil"
   ]
  },
  {
   "cell_type": "code",
   "execution_count": 2,
   "metadata": {},
   "outputs": [
    {
     "name": "stdout",
     "output_type": "stream",
     "text": [
      "449 total images of water\n",
      "1025 total images of no water\n"
     ]
    }
   ],
   "source": [
    "LABELED_IMAGES_DIRECTORY = '../static/labeled_images/'\n",
    "\n",
    "WATER_DIRECTORY = os.path.join(LABELED_IMAGES_DIRECTORY, 'water')\n",
    "NO_WATER_DIRECTORY = os.path.join(LABELED_IMAGES_DIRECTORY, 'no_water')\n",
    "\n",
    "TRAIN_IMAGES_DIRECTORY = '../model_data/train'\n",
    "VAL_IMAGES_DIRECTORY = '../model_data/val'\n",
    "TEST_IMAGES_DIRECTORY = '../model_data/test/test_images'\n",
    "\n",
    "total_num_water_images = len([name for name in os.listdir(WATER_DIRECTORY)])\n",
    "total_num_no_water_images = len([name for name in os.listdir(NO_WATER_DIRECTORY)])\n",
    "\n",
    "print(total_num_water_images, 'total images of water')\n",
    "print(total_num_no_water_images, 'total images of no water')"
   ]
  },
  {
   "cell_type": "code",
   "execution_count": 3,
   "metadata": {},
   "outputs": [
    {
     "name": "stdout",
     "output_type": "stream",
     "text": [
      "440 images of water used\n",
      "1000 images of no water used\n"
     ]
    }
   ],
   "source": [
    "num_water_samples = total_num_water_images - total_num_water_images  % 40\n",
    "num_no_water_samples = total_num_no_water_images - total_num_no_water_images % 40\n",
    "\n",
    "print(num_water_samples, 'images of water used')\n",
    "print(num_no_water_samples, 'images of no water used')"
   ]
  },
  {
   "cell_type": "code",
   "execution_count": 4,
   "metadata": {},
   "outputs": [],
   "source": [
    "# dimensions of our images.\n",
    "img_width, img_height = 1000, 1000\n",
    "batch_size = 20\n",
    "epochs = 1\n",
    "\n",
    "if K.image_data_format() == 'channels_first':\n",
    "    input_shape = (3, img_width, img_height)\n",
    "else:\n",
    "    input_shape = (img_width, img_height, 3)"
   ]
  },
  {
   "cell_type": "code",
   "execution_count": 5,
   "metadata": {},
   "outputs": [],
   "source": [
    "def copy_image_subset(filenames, target_directory, file_indices, label):\n",
    "    for ind in file_indices:\n",
    "        filename = filenames[ind]\n",
    "        current_filepath = os.path.join(LABELED_IMAGES_DIRECTORY, label, filename)        \n",
    "        target_filepath = os.path.join(target_directory, label, filename)\n",
    "\n",
    "        shutil.copyfile(current_filepath, target_filepath)"
   ]
  },
  {
   "cell_type": "code",
   "execution_count": 6,
   "metadata": {},
   "outputs": [],
   "source": [
    "def move_images_to_model_dirs(directory, label, num_samples):\n",
    "    \n",
    "    global total_train_samples\n",
    "    global total_val_samples\n",
    "    \n",
    "    filenames = os.listdir(directory)[:num_samples]\n",
    "    all_file_indices = list(range(num_samples))\n",
    "    random.shuffle(all_file_indices)\n",
    "\n",
    "    num_train_samples = math.floor(num_samples * 0.5)\n",
    "    train_sample_indices = all_file_indices[:num_train_samples]\n",
    "    val_sample_indices = all_file_indices[num_train_samples:]\n",
    "\n",
    "    total_train_samples += len(train_sample_indices)\n",
    "    total_val_samples += len(val_sample_indices)\n",
    "\n",
    "    copy_image_subset(filenames, TRAIN_IMAGES_DIRECTORY, train_sample_indices, label)\n",
    "    copy_image_subset(filenames, VAL_IMAGES_DIRECTORY, val_sample_indices, label)"
   ]
  },
  {
   "cell_type": "code",
   "execution_count": 7,
   "metadata": {},
   "outputs": [
    {
     "name": "stdout",
     "output_type": "stream",
     "text": [
      "Total images for training: 720\n",
      "Total images for validation: 720\n"
     ]
    }
   ],
   "source": [
    "labeled_directories = [(WATER_DIRECTORY, 'water'),\n",
    "                       (NO_WATER_DIRECTORY, 'no_water')]\n",
    "\n",
    "total_train_samples = 0\n",
    "total_val_samples = 0\n",
    "\n",
    "move_images_to_model_dirs(WATER_DIRECTORY, 'water', num_water_samples)\n",
    "move_images_to_model_dirs(NO_WATER_DIRECTORY, 'no_water', num_no_water_samples)\n",
    "\n",
    "print('Total images for training:', total_train_samples)\n",
    "print('Total images for validation:', total_val_samples)"
   ]
  },
  {
   "cell_type": "code",
   "execution_count": 8,
   "metadata": {},
   "outputs": [
    {
     "name": "stdout",
     "output_type": "stream",
     "text": [
      "WARNING:tensorflow:From /home/ganesh/.local/share/virtualenvs/IsThisWater-fVor0WEH/lib/python3.7/site-packages/tensorflow/python/framework/op_def_library.py:263: colocate_with (from tensorflow.python.framework.ops) is deprecated and will be removed in a future version.\n",
      "Instructions for updating:\n",
      "Colocations handled automatically by placer.\n",
      "WARNING:tensorflow:From /home/ganesh/.local/share/virtualenvs/IsThisWater-fVor0WEH/lib/python3.7/site-packages/keras/backend/tensorflow_backend.py:3445: calling dropout (from tensorflow.python.ops.nn_ops) with keep_prob is deprecated and will be removed in a future version.\n",
      "Instructions for updating:\n",
      "Please use `rate` instead of `keep_prob`. Rate should be set to `rate = 1 - keep_prob`.\n"
     ]
    }
   ],
   "source": [
    "model = Sequential()\n",
    "model.add(Conv2D(32, (3, 3), input_shape=input_shape))\n",
    "model.add(Activation('relu'))\n",
    "model.add(MaxPooling2D(pool_size=(2, 2)))\n",
    "\n",
    "model.add(Conv2D(32, (3, 3)))\n",
    "model.add(Activation('relu'))\n",
    "model.add(MaxPooling2D(pool_size=(2, 2)))\n",
    "\n",
    "model.add(Conv2D(64, (3, 3)))\n",
    "model.add(Activation('relu'))\n",
    "model.add(MaxPooling2D(pool_size=(2, 2)))\n",
    "\n",
    "model.add(Flatten())\n",
    "model.add(Dense(64))\n",
    "model.add(Activation('relu'))\n",
    "model.add(Dropout(0.5))\n",
    "model.add(Dense(1))\n",
    "model.add(Activation('sigmoid'))\n",
    "\n",
    "model.compile(loss='binary_crossentropy',\n",
    "              optimizer='rmsprop',\n",
    "              metrics=['accuracy'])"
   ]
  },
  {
   "cell_type": "code",
   "execution_count": 9,
   "metadata": {},
   "outputs": [
    {
     "name": "stdout",
     "output_type": "stream",
     "text": [
      "Found 720 images belonging to 2 classes.\n",
      "Found 720 images belonging to 2 classes.\n"
     ]
    }
   ],
   "source": [
    "# this is the augmentation configuration we will use for training\n",
    "train_datagen = ImageDataGenerator(\n",
    "    rescale=1. / 255,\n",
    "    shear_range=0.2,\n",
    "    zoom_range=0.2,\n",
    "    horizontal_flip=True)\n",
    "\n",
    "# this is the augmentation configuration we will use for testing:\n",
    "# only rescaling\n",
    "test_datagen = ImageDataGenerator(rescale=1. / 255)\n",
    "\n",
    "train_generator = train_datagen.flow_from_directory(\n",
    "    TRAIN_IMAGES_DIRECTORY,\n",
    "    target_size=(img_width, img_height),\n",
    "    batch_size=batch_size,\n",
    "    class_mode='binary')\n",
    "\n",
    "val_generator = test_datagen.flow_from_directory(\n",
    "    VAL_IMAGES_DIRECTORY,\n",
    "    target_size=(img_width, img_height),\n",
    "    batch_size=batch_size,\n",
    "    class_mode='binary')"
   ]
  },
  {
   "cell_type": "code",
   "execution_count": null,
   "metadata": {},
   "outputs": [
    {
     "name": "stdout",
     "output_type": "stream",
     "text": [
      "WARNING:tensorflow:From /home/ganesh/.local/share/virtualenvs/IsThisWater-fVor0WEH/lib/python3.7/site-packages/tensorflow/python/ops/math_ops.py:3066: to_int32 (from tensorflow.python.ops.math_ops) is deprecated and will be removed in a future version.\n",
      "Instructions for updating:\n",
      "Use tf.cast instead.\n",
      "Epoch 1/1\n"
     ]
    }
   ],
   "source": [
    "model.fit_generator(\n",
    "    train_generator,\n",
    "    steps_per_epoch=total_train_samples // batch_size,\n",
    "    epochs=epochs,\n",
    "    validation_data=val_generator,\n",
    "    validation_steps=total_val_samples // batch_size)\n",
    "\n",
    "model.save_weights('weights.h5')"
   ]
  },
  {
   "cell_type": "code",
   "execution_count": null,
   "metadata": {},
   "outputs": [],
   "source": [
    "# model.evaluate_generator(generator=test_generator)"
   ]
  }
 ],
 "metadata": {
  "kernelspec": {
   "display_name": "Python 3",
   "language": "python",
   "name": "python3"
  },
  "language_info": {
   "codemirror_mode": {
    "name": "ipython",
    "version": 3
   },
   "file_extension": ".py",
   "mimetype": "text/x-python",
   "name": "python",
   "nbconvert_exporter": "python",
   "pygments_lexer": "ipython3",
   "version": "3.7.3"
  }
 },
 "nbformat": 4,
 "nbformat_minor": 2
}
