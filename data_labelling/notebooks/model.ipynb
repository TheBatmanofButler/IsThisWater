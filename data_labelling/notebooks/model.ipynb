{
 "cells": [
  {
   "cell_type": "markdown",
   "metadata": {},
   "source": [
    "## Source: https://blog.keras.io/building-powerful-image-classification-models-using-very-little-data.html"
   ]
  },
  {
   "cell_type": "code",
   "execution_count": 1,
   "metadata": {},
   "outputs": [
    {
     "name": "stderr",
     "output_type": "stream",
     "text": [
      "Using TensorFlow backend.\n"
     ]
    }
   ],
   "source": [
    "from keras.preprocessing.image import ImageDataGenerator\n",
    "from keras.models import Sequential\n",
    "from keras.layers import Conv2D, MaxPooling2D\n",
    "from keras.layers import Activation, Dropout, Flatten, Dense\n",
    "from keras import backend as K\n",
    "\n",
    "import os\n",
    "import math\n",
    "import random\n",
    "import shutil"
   ]
  },
  {
   "cell_type": "code",
   "execution_count": 2,
   "metadata": {},
   "outputs": [],
   "source": [
    "LABELED_IMAGES_DIRECTORY = 'static/labeled_images/'\n",
    "\n",
    "WATER_DIRECTORY = os.path.join(LABELED_IMAGES_DIRECTORY, 'water')\n",
    "NO_WATER_DIRECTORY = os.path.join(LABELED_IMAGES_DIRECTORY, 'no_water')\n",
    "\n",
    "TRAIN_IMAGES_DIRECTORY = 'model_data/train'\n",
    "VAL_IMAGES_DIRECTORY = 'model_data/val'\n",
    "TEST_IMAGES_DIRECTORY = 'model_data/test/test_images'"
   ]
  },
  {
   "cell_type": "code",
   "execution_count": 3,
   "metadata": {},
   "outputs": [],
   "source": [
    "# dimensions of our images.\n",
    "img_width, img_height = 1000, 1000\n",
    "\n",
    "total_train_samples = 1000\n",
    "total_val_test_samples = 1000\n",
    "batch_size = 20\n",
    "epochs = 50\n",
    "\n",
    "if K.image_data_format() == 'channels_first':\n",
    "    input_shape = (3, img_width, img_height)\n",
    "else:\n",
    "    input_shape = (img_width, img_height, 3)"
   ]
  },
  {
   "cell_type": "code",
   "execution_count": 4,
   "metadata": {},
   "outputs": [],
   "source": [
    "def copy_image_subset(target_directory, file_indices, label, target_has_label=True):\n",
    "    for ind in file_indices:\n",
    "        filename = filenames[ind]\n",
    "        current_filepath = os.path.join(LABELED_IMAGES_DIRECTORY, label, filename)\n",
    "        \n",
    "        if target_has_label:\n",
    "            target_filepath = os.path.join(target_directory, label, filename)\n",
    "        else:\n",
    "            target_filepath = os.path.join(target_directory, filename)\n",
    "            \n",
    "        shutil.copyfile(current_filepath, target_filepath)"
   ]
  },
  {
   "cell_type": "code",
   "execution_count": 5,
   "metadata": {},
   "outputs": [],
   "source": [
    "labeled_directories = [(WATER_DIRECTORY, 'water'),\n",
    "                       (NO_WATER_DIRECTORY, 'no_water')]\n",
    "\n",
    "for directory, label in labeled_directories:\n",
    "    filenames = os.listdir(directory)\n",
    "    num_files = len(filenames)\n",
    "    all_file_indices = list(range(num_files))\n",
    "    random.shuffle(all_file_indices)\n",
    "\n",
    "    num_train_samples = math.floor(num_files * 0.6)\n",
    "    num_val_test_samples = math.floor((num_files - num_train_samples) * 0.5)\n",
    "\n",
    "    val_data_start = num_train_samples\n",
    "    test_data_start = num_train_samples + num_val_test_samples\n",
    "\n",
    "    copy_image_subset(TRAIN_IMAGES_DIRECTORY, all_file_indices[:val_data_start], label)\n",
    "    copy_image_subset(VAL_IMAGES_DIRECTORY, all_file_indices[val_data_start:test_data_start], label)\n",
    "    copy_image_subset(TEST_IMAGES_DIRECTORY, all_file_indices[test_data_start:], label, target_has_label=False)"
   ]
  },
  {
   "cell_type": "code",
   "execution_count": 6,
   "metadata": {},
   "outputs": [],
   "source": [
    "model = Sequential()\n",
    "model.add(Conv2D(32, (3, 3), input_shape=input_shape))\n",
    "model.add(Activation('relu'))\n",
    "model.add(MaxPooling2D(pool_size=(2, 2)))\n",
    "\n",
    "model.add(Conv2D(32, (3, 3)))\n",
    "model.add(Activation('relu'))\n",
    "model.add(MaxPooling2D(pool_size=(2, 2)))\n",
    "\n",
    "model.add(Conv2D(64, (3, 3)))\n",
    "model.add(Activation('relu'))\n",
    "model.add(MaxPooling2D(pool_size=(2, 2)))\n",
    "\n",
    "model.add(Flatten())\n",
    "model.add(Dense(64))\n",
    "model.add(Activation('relu'))\n",
    "model.add(Dropout(0.5))\n",
    "model.add(Dense(1))\n",
    "model.add(Activation('sigmoid'))\n",
    "\n",
    "model.compile(loss='binary_crossentropy',\n",
    "              optimizer='rmsprop',\n",
    "              metrics=['accuracy'])"
   ]
  },
  {
   "cell_type": "code",
   "execution_count": 7,
   "metadata": {},
   "outputs": [
    {
     "name": "stdout",
     "output_type": "stream",
     "text": [
      "Found 18 images belonging to 2 classes.\n",
      "Found 12 images belonging to 2 classes.\n",
      "Found 0 images belonging to 0 classes.\n"
     ]
    }
   ],
   "source": [
    "# this is the augmentation configuration we will use for training\n",
    "train_datagen = ImageDataGenerator(\n",
    "    rescale=1. / 255,\n",
    "    shear_range=0.2,\n",
    "    zoom_range=0.2,\n",
    "    horizontal_flip=True)\n",
    "\n",
    "# this is the augmentation configuration we will use for testing:\n",
    "# only rescaling\n",
    "val_test_datagen = ImageDataGenerator(rescale=1. / 255)\n",
    "\n",
    "train_generator = train_datagen.flow_from_directory(\n",
    "    TRAIN_IMAGES_DIRECTORY,\n",
    "    target_size=(img_width, img_height),\n",
    "    batch_size=batch_size,\n",
    "    class_mode='binary')\n",
    "\n",
    "val_generator = val_test_datagen.flow_from_directory(\n",
    "    VAL_IMAGES_DIRECTORY,\n",
    "    target_size=(img_width, img_height),\n",
    "    batch_size=batch_size,\n",
    "    class_mode='binary')\n",
    "\n",
    "test_generator = val_test_datagen.flow_from_directory(\n",
    "    TEST_IMAGES_DIRECTORY,\n",
    "    target_size=(img_width, img_height),\n",
    "    batch_size=batch_size,\n",
    "    class_mode='binary')"
   ]
  },
  {
   "cell_type": "code",
   "execution_count": null,
   "metadata": {},
   "outputs": [
    {
     "name": "stdout",
     "output_type": "stream",
     "text": [
      "Epoch 1/50\n"
     ]
    }
   ],
   "source": [
    "model.fit_generator(\n",
    "    train_generator,\n",
    "    steps_per_epoch=total_train_samples // batch_size,\n",
    "    epochs=epochs,\n",
    "    validation_data=val_generator,\n",
    "    validation_steps=total_val_test_samples // batch_size)\n",
    "\n",
    "model.save_weights('weights.h5')"
   ]
  },
  {
   "cell_type": "code",
   "execution_count": null,
   "metadata": {},
   "outputs": [],
   "source": [
    "model.evaluate_generator(generator=test_generator)"
   ]
  }
 ],
 "metadata": {
  "kernelspec": {
   "display_name": "Python 3",
   "language": "python",
   "name": "python3"
  },
  "language_info": {
   "codemirror_mode": {
    "name": "ipython",
    "version": 3
   },
   "file_extension": ".py",
   "mimetype": "text/x-python",
   "name": "python",
   "nbconvert_exporter": "python",
   "pygments_lexer": "ipython3",
   "version": "3.7.3"
  }
 },
 "nbformat": 4,
 "nbformat_minor": 2
}
