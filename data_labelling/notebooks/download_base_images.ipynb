{
 "cells": [
  {
   "cell_type": "code",
   "execution_count": 1,
   "metadata": {},
   "outputs": [],
   "source": [
    "from mapbox import Static\n",
    "\n",
    "import json\n",
    "import os\n",
    "import urllib\n",
    "import shutil"
   ]
  },
  {
   "cell_type": "code",
   "execution_count": 2,
   "metadata": {},
   "outputs": [],
   "source": [
    "MAPBOX_ACCESS_TOKEN = os.environ['MAPBOX_ACCESS_TOKEN']\n",
    "STANDARD_ZOOM = 15\n",
    "SITES_DATA_FILEPATH = '../json/sites_from_cities_0.json'\n",
    "BASE_IMAGES_DIRECTORY = '../static/base_images/'\n",
    "IMAGE_WIDTH = 1000\n",
    "IMAGE_HEIGHT = 1000\n",
    "\n",
    "service = Static(access_token=MAPBOX_ACCESS_TOKEN)"
   ]
  },
  {
   "cell_type": "code",
   "execution_count": 3,
   "metadata": {},
   "outputs": [],
   "source": [
    "with open(SITES_DATA_FILEPATH) as fp:\n",
    "    sites_dict = json.load(fp)\n",
    "\n",
    "unchecked_sites = sites_dict['unchecked']"
   ]
  },
  {
   "cell_type": "code",
   "execution_count": 4,
   "metadata": {},
   "outputs": [],
   "source": [
    "def get_mapbox_api_response(lon, lat, zoom):\n",
    "    response = service.image('mapbox.satellite',\n",
    "                             lon=lon,\n",
    "                             lat=lat,\n",
    "                             z=zoom,\n",
    "                             width=IMAGE_WIDTH,\n",
    "                             height=IMAGE_HEIGHT)\n",
    "    return response\n",
    "\n",
    "def download_image(site):\n",
    "    lat = site.get('lat')\n",
    "    lon = site.get('lon')\n",
    "    site_code = site.get('site_code')\n",
    "\n",
    "    response = get_mapbox_api_response(lon, lat, STANDARD_ZOOM)\n",
    "    image_name = '{}.png'.format(site_code)\n",
    "    image_filepath = os.path.join(BASE_IMAGES_DIRECTORY, image_name)\n",
    "\n",
    "    with open(image_filepath, 'wb') as output:\n",
    "        output.write(response.content)"
   ]
  },
  {
   "cell_type": "code",
   "execution_count": 5,
   "metadata": {},
   "outputs": [
    {
     "name": "stdout",
     "output_type": "stream",
     "text": [
      "9 images left to download.\n",
      "8 images left to download.\n",
      "7 images left to download.\n",
      "6 images left to download.\n",
      "5 images left to download.\n",
      "4 images left to download.\n",
      "3 images left to download.\n",
      "2 images left to download.\n",
      "1 images left to download.\n",
      "0 images left to download.\n",
      "All images downloaded.\n"
     ]
    }
   ],
   "source": [
    "total = len(unchecked_sites)\n",
    "\n",
    "shutil.rmtree(BASE_IMAGES_DIRECTORY)\n",
    "os.makedirs(BASE_IMAGES_DIRECTORY)\n",
    "\n",
    "for site in unchecked_sites:\n",
    "    download_image(site)\n",
    "    total -= 1\n",
    "    print('{} images left to download.'.format(total))\n",
    "\n",
    "print('All images downloaded.')"
   ]
  },
  {
   "cell_type": "code",
   "execution_count": null,
   "metadata": {},
   "outputs": [],
   "source": []
  }
 ],
 "metadata": {
  "kernelspec": {
   "display_name": "IsThisWater",
   "language": "python",
   "name": "isthiswater"
  },
  "language_info": {
   "codemirror_mode": {
    "name": "ipython",
    "version": 3
   },
   "file_extension": ".py",
   "mimetype": "text/x-python",
   "name": "python",
   "nbconvert_exporter": "python",
   "pygments_lexer": "ipython3",
   "version": "3.7.0"
  }
 },
 "nbformat": 4,
 "nbformat_minor": 2
}
