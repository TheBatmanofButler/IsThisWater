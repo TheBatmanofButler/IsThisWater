{
 "cells": [
  {
   "cell_type": "code",
   "execution_count": 1,
   "metadata": {},
   "outputs": [],
   "source": [
    "import json\n",
    "import os\n",
    "import urllib"
   ]
  },
  {
   "cell_type": "code",
   "execution_count": 2,
   "metadata": {},
   "outputs": [],
   "source": [
    "MAPBOX_ACCESS_TOKEN = os.environ['MAPBOX_ACCESS_TOKEN']\n",
    "STANDARD_ZOOM = 15\n",
    "SITE_LIMIT = 20\n",
    "DATA_FILEPATH = 'sites.json'\n",
    "BASE_IMAGES_DIRECTORY = 'static/base_images/'"
   ]
  },
  {
   "cell_type": "code",
   "execution_count": 3,
   "metadata": {},
   "outputs": [],
   "source": [
    "with open(DATA_FILEPATH) as fp:\n",
    "    sites_dict = json.load(fp)\n",
    "\n",
    "unchecked_sites = sites_dict['unchecked'][:SITE_LIMIT]"
   ]
  },
  {
   "cell_type": "code",
   "execution_count": 4,
   "metadata": {},
   "outputs": [],
   "source": [
    "def get_image_url(lon, lat, zoom):\n",
    "      return 'https://api.mapbox.com/v4/mapbox.satellite/{},{},{}/1000x1000.png32?access_token={}'.format(lon, lat, zoom, MAPBOX_ACCESS_TOKEN)\n",
    "\n",
    "def download_image(site):\n",
    "    lat = site.get('lat')\n",
    "    lon = site.get('lon')\n",
    "    site_code = site.get('site_code')\n",
    "\n",
    "    image_url = get_image_url(lon, lat, STANDARD_ZOOM)\n",
    "    image_name = '{}.png'.format(site_code)\n",
    "    image_filepath = os.path.join(BASE_IMAGES_DIRECTORY, image_name)\n",
    "\n",
    "    urllib.request.urlretrieve(image_url, image_filepath)"
   ]
  },
  {
   "cell_type": "code",
   "execution_count": 5,
   "metadata": {},
   "outputs": [
    {
     "name": "stdout",
     "output_type": "stream",
     "text": [
      "19 images left to download.\n",
      "18 images left to download.\n",
      "17 images left to download.\n",
      "16 images left to download.\n",
      "15 images left to download.\n",
      "14 images left to download.\n",
      "13 images left to download.\n",
      "12 images left to download.\n",
      "11 images left to download.\n",
      "10 images left to download.\n",
      "9 images left to download.\n",
      "8 images left to download.\n",
      "7 images left to download.\n",
      "6 images left to download.\n",
      "5 images left to download.\n",
      "4 images left to download.\n",
      "3 images left to download.\n",
      "2 images left to download.\n",
      "1 images left to download.\n",
      "0 images left to download.\n",
      "All images downloaded.\n"
     ]
    }
   ],
   "source": [
    "total = len(unchecked_sites)\n",
    "\n",
    "for site in unchecked_sites:\n",
    "    download_image(site)\n",
    "    total -= 1\n",
    "    print('{} images left to download.'.format(total))\n",
    "\n",
    "print('All images downloaded.')"
   ]
  },
  {
   "cell_type": "code",
   "execution_count": null,
   "metadata": {},
   "outputs": [],
   "source": []
  }
 ],
 "metadata": {
  "kernelspec": {
   "display_name": "Python [conda env:root]",
   "language": "python",
   "name": "conda-root-py"
  },
  "language_info": {
   "codemirror_mode": {
    "name": "ipython",
    "version": 3
   },
   "file_extension": ".py",
   "mimetype": "text/x-python",
   "name": "python",
   "nbconvert_exporter": "python",
   "pygments_lexer": "ipython3",
   "version": "3.7.0"
  }
 },
 "nbformat": 4,
 "nbformat_minor": 2
}
