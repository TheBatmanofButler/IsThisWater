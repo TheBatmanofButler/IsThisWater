{
 "cells": [
  {
   "cell_type": "code",
   "execution_count": null,
   "metadata": {},
   "outputs": [],
   "source": [
    "import json\n",
    "import os\n",
    "import urllib"
   ]
  },
  {
   "cell_type": "code",
   "execution_count": null,
   "metadata": {},
   "outputs": [],
   "source": [
    "MAPBOX_ACCESS_TOKEN = os.environ['MAPBOX_ACCESS_TOKEN']\n",
    "sites_filepath = 'sites.json'\n",
    "images_folder = 'images/'"
   ]
  },
  {
   "cell_type": "code",
   "execution_count": null,
   "metadata": {},
   "outputs": [],
   "source": [
    "with open(sites_filepath) as fp:\n",
    "    sites_dict = json.load(fp)\n",
    "\n",
    "water_found_sites = sites_dict['water_found']"
   ]
  },
  {
   "cell_type": "code",
   "execution_count": null,
   "metadata": {},
   "outputs": [],
   "source": [
    "def get_image_url(lon, lat, zoom):\n",
    "      return 'https://api.mapbox.com/v4/mapbox.satellite/{},{},{}/1000x1000.png32?access_token={}'.format(lon, lat, zoom, MAPBOX_ACCESS_TOKEN)\n",
    "\n",
    "def download_image(site):\n",
    "    lat = site.get('lat')\n",
    "    lon = site.get('lon')\n",
    "    zoom = site.get('zoom')\n",
    "    site_code = site.get('site_code')\n",
    "\n",
    "    image_url = get_image_url(lon, lat, zoom)\n",
    "    image_name = '{}.png'.format(site_code)\n",
    "    image_filepath = os.path.join(images_folder, image_name)\n",
    "\n",
    "    urllib.request.urlretrieve(image_url, image_filepath)"
   ]
  },
  {
   "cell_type": "code",
   "execution_count": null,
   "metadata": {},
   "outputs": [],
   "source": [
    "total = len(water_found_sites)\n",
    "\n",
    "for site in water_found_sites:\n",
    "    download_image(site)\n",
    "\n",
    "    total -= 1\n",
    "    print('{} images left to download.'.format(total))\n",
    "\n",
    "print('All images downloaded.')"
   ]
  },
  {
   "cell_type": "code",
   "execution_count": null,
   "metadata": {},
   "outputs": [],
   "source": []
  }
 ],
 "metadata": {
  "kernelspec": {
   "display_name": "Python [conda env:root]",
   "language": "python",
   "name": "conda-root-py"
  },
  "language_info": {
   "codemirror_mode": {
    "name": "ipython",
    "version": 3
   },
   "file_extension": ".py",
   "mimetype": "text/x-python",
   "name": "python",
   "nbconvert_exporter": "python",
   "pygments_lexer": "ipython3",
   "version": "3.7.0"
  }
 },
 "nbformat": 4,
 "nbformat_minor": 2
}
